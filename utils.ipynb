{
 "cells": [
  {
   "cell_type": "code",
   "execution_count": 1,
   "id": "fb990de7",
   "metadata": {},
   "outputs": [
    {
     "name": "stdout",
     "output_type": "stream",
     "text": [
      "Total Task 1 vocab: 1493\n",
      "Total Task 2 features: 2000\n",
      "In both:            715\n",
      "Only in Task 2:     1285\n",
      "Only in Task 1:     778\n",
      "Task 1 vocab size      : 1493\n",
      "Task 2 feature size    : 2000\n",
      "Intersection size      : 715\n",
      "Examples only in Task 1: ['abq', 'acdelco', 'acne', 'acre', 'actress', 'acura', 'addario', 'ai', 'aic', 'aidan']\n",
      "Examples only in Task 2: ['access', 'accessories', 'account', 'acid', 'act', 'acted', 'actions', 'adapters', 'adjust', 'adjustable']\n",
      "Examples in both      : ['acoustic', 'acting', 'action', 'actor', 'actors', 'adapter', 'addicted', 'addicting', 'addictive', 'ads']\n"
     ]
    }
   ],
   "source": [
    "# Comparing output.txt with output.ds\n",
    "\n",
    "with open(\"output.txt\", \"r\") as f1:\n",
    "    lines1 = f1.readlines()\n",
    "last_line = lines1[-1].strip()\n",
    "\n",
    "merged_vocab = set(last_line.split('\\t')[1].strip('\"').split())\n",
    "\n",
    "\n",
    "with open(\"output_ds.txt\", \"r\") as f2:\n",
    "    ds_words = {line.strip() for line in f2 if line.strip()}\n",
    "\n",
    "\n",
    "in_both = merged_vocab & ds_words\n",
    "only_in_task2 = ds_words - merged_vocab\n",
    "only_in_task1 = merged_vocab - ds_words\n",
    "\n",
    "print(f\"Total Task 1 vocab: {len(merged_vocab)}\")\n",
    "print(f\"Total Task 2 features: {len(ds_words)}\")\n",
    "print(f\"In both:            {len(in_both)}\")\n",
    "print(f\"Only in Task 2:     {len(only_in_task2)}\")\n",
    "print(f\"Only in Task 1:     {len(only_in_task1)}\")\n",
    "\n",
    "#with open(\"common.txt\", \"w\") as o:\n",
    "#    o.write(\"\\n\".join(sorted(in_both)))\n",
    "#with open(\"new_in_task2.txt\", \"w\") as o:\n",
    "#    o.write(\"\\n\".join(sorted(only_in_task2)))\n",
    "#with open(\"dropped_from_task1.txt\", \"w\") as o:\n",
    "#    o.write(\"\\n\".join(sorted(only_in_task1)))\n",
    "\n",
    "size1 = len(merged_vocab)\n",
    "size2 = len(ds_words)\n",
    "intersection = len(in_both)\n",
    "union = len(merged_vocab | ds_words)\n",
    "jaccard = intersection / union\n",
    "\n",
    "print(f\"Task 1 vocab size      : {size1}\")\n",
    "print(f\"Task 2 feature size    : {size2}\")\n",
    "print(f\"Intersection size      : {intersection}\")\n",
    "\n",
    "\n",
    "print(\"Examples only in Task 1:\", list(sorted(only_in_task1))[:10])\n",
    "print(\"Examples only in Task 2:\", list(sorted(only_in_task2))[:10])\n",
    "print(\"Examples in both      :\", list(sorted(in_both))[:10])\n"
   ]
  },
  {
   "cell_type": "code",
   "execution_count": 2,
   "id": "003775c9",
   "metadata": {},
   "outputs": [
    {
     "name": "stdout",
     "output_type": "stream",
     "text": [
      "Assignment 1 vocab size : 1493\n",
      "RDD vocab size          : 1492\n",
      "In both                 : 1445\n",
      "Only in A1 (dropped)    : 48\n",
      "Only in RDD (new)       : 47\n",
      "Examples only in A1: ['abq', 'aic', 'aimard', 'becka', 'blu', 'calves', 'ceiling', 'delco', 'doh', 'filters']\n",
      "Examples only in RDD: ['ad-free', 'all-in-one', 'aroma', 'bits', 'blu-ray', 'booster', 'c-clip', 'c-pen', 'cartoons', 'cy-']\n",
      "Examples in both    : ['acdelco', 'acne', 'acoustic', 'acre', 'acting', 'action', 'actor', 'actors', 'actress', 'acura']\n"
     ]
    }
   ],
   "source": [
    "# Comparing output.txt and output_rdd.txt\n",
    "\n",
    "with open(\"output.txt\", \"r\") as f1:\n",
    "    lines1 = f1.readlines()[:-1]   # skipping the last line\n",
    "    \n",
    "vocab1 = set()\n",
    "for line in lines1:\n",
    "    parts = line.split('\\t', 1)[1].strip().strip('\"')\n",
    "    for token in parts.split():\n",
    "        word = token.split(':', 1)[0]\n",
    "        vocab1.add(word)\n",
    "        \n",
    "with open(\"output_rdd.txt\", \"r\") as f2:\n",
    "    lines2 = [l for l in f2 if l.strip()]\n",
    "\n",
    "vocab2 = set()\n",
    "for line in lines2:\n",
    "    parts = line.split('\\t', 1)[1].strip().strip('\"')\n",
    "    for token in parts.split():\n",
    "        word = token.split(':', 1)[0]\n",
    "        vocab2.add(word)\n",
    "\n",
    "only1       = vocab1 - vocab2\n",
    "only2       = vocab2 - vocab1\n",
    "intersection = vocab1 & vocab2\n",
    "\n",
    "\n",
    "print(f\"Assignment 1 vocab size : {len(vocab1)}\")\n",
    "print(f\"RDD vocab size          : {len(vocab2)}\")\n",
    "print(f\"In both                 : {len(intersection)}\")\n",
    "print(f\"Only in A1 (dropped)    : {len(only1)}\")\n",
    "print(f\"Only in RDD (new)       : {len(only2)}\")\n",
    "\n",
    "print(\"Examples only in A1:\", sorted(only1)[:10])\n",
    "print(\"Examples only in RDD:\", sorted(only2)[:10])\n",
    "print(\"Examples in both    :\", sorted(intersection)[:10])\n"
   ]
  },
  {
   "cell_type": "code",
   "execution_count": null,
   "id": "aa07f374",
   "metadata": {},
   "outputs": [],
   "source": []
  }
 ],
 "metadata": {
  "kernelspec": {
   "display_name": "Python 3",
   "language": "python",
   "name": "python3"
  },
  "language_info": {
   "codemirror_mode": {
    "name": "ipython",
    "version": 3
   },
   "file_extension": ".py",
   "mimetype": "text/x-python",
   "name": "python",
   "nbconvert_exporter": "python",
   "pygments_lexer": "ipython3",
   "version": "3.8.8"
  }
 },
 "nbformat": 4,
 "nbformat_minor": 5
}
