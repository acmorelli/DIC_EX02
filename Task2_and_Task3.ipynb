{
 "cells": [
  {
   "cell_type": "markdown",
   "id": "3511f5bb-58d9-4e22-b890-96ebc990a157",
   "metadata": {},
   "source": [
    "### Packages"
   ]
  },
  {
   "cell_type": "code",
   "execution_count": 1,
   "id": "a09cab35-e215-447a-957a-562ef20116ee",
   "metadata": {},
   "outputs": [],
   "source": [
    "from pyspark.sql import SparkSession\n",
    "from pyspark.ml.feature import (\n",
    "    RegexTokenizer, StopWordsRemover,\n",
    "    CountVectorizer, IDF,\n",
    "    StringIndexer, ChiSqSelector,\n",
    "    Normalizer, StandardScaler\n",
    ")\n",
    "from pyspark.ml.classification import LinearSVC, OneVsRest\n",
    "from pyspark.ml import Pipeline\n",
    "from pyspark.ml.evaluation import MulticlassClassificationEvaluator\n",
    "from pyspark.ml.tuning import ParamGridBuilder, TrainValidationSplit\n",
    "from itertools import product\n",
    "\n",
    "import warnings\n",
    "warnings.filterwarnings(\"ignore\")"
   ]
  },
  {
   "cell_type": "code",
   "execution_count": 2,
   "id": "67632f60-e1b7-414b-a607-cd4fb7ceb811",
   "metadata": {},
   "outputs": [
    {
     "name": "stderr",
     "output_type": "stream",
     "text": [
      "SLF4J: Class path contains multiple SLF4J bindings.\n",
      "SLF4J: Found binding in [jar:file:/usr/lib/spark/jars/log4j-slf4j-impl-2.17.2.jar!/org/slf4j/impl/StaticLoggerBinder.class]\n",
      "SLF4J: Found binding in [jar:file:/usr/lib/hadoop/lib/slf4j-reload4j-1.7.36.jar!/org/slf4j/impl/StaticLoggerBinder.class]\n",
      "SLF4J: See http://www.slf4j.org/codes.html#multiple_bindings for an explanation.\n",
      "SLF4J: Actual binding is of type [org.apache.logging.slf4j.Log4jLoggerFactory]\n",
      "Setting default log level to \"WARN\".\n",
      "To adjust logging level use sc.setLogLevel(newLevel). For SparkR, use setLogLevel(newLevel).\n"
     ]
    },
    {
     "name": "stdout",
     "output_type": "stream",
     "text": [
      "25/05/13 01:09:46 WARN Utils: Service 'SparkUI' could not bind on port 4040. Attempting port 4041.\n",
      "25/05/13 01:09:46 WARN Utils: Service 'SparkUI' could not bind on port 4041. Attempting port 4042.\n",
      "25/05/13 01:09:49 WARN Client: Neither spark.yarn.jars nor spark.yarn.archive is set, falling back to uploading libraries under SPARK_HOME.\n",
      "Spark UI available at: http://lbdlg01.datalab.novalocal:4042\n"
     ]
    },
    {
     "name": "stderr",
     "output_type": "stream",
     "text": [
      "                                                                                "
     ]
    },
    {
     "data": {
      "text/plain": [
       "Row(asin='0981850006', category='Patio_Lawn_and_Garde', helpful=[6, 7], overall=5.0, reviewText=\"This was a gift for my other husband.  He's making us things from it all the time and we love the food.  Directions are simple, easy to read and interpret, and fun to make.  We all love different kinds of cuisine and Raichlen provides recipes from everywhere along the barbecue trail as he calls it. Get it and just open a page.  Have at it.  You'll love the food and it has provided us with an insight into the culture that produced it. It's all about broadening horizons.  Yum!!\", reviewTime='12 3, 2009', reviewerID='A2VNYWOPJ13AFP', reviewerName='Amazon Customer \"carringt0n\"', summary='Delish', unixReviewTime=1259798400)"
      ]
     },
     "execution_count": 2,
     "metadata": {},
     "output_type": "execute_result"
    }
   ],
   "source": [
    "spark = SparkSession.builder.appName(\"Task2_Task3\").getOrCreate()\n",
    "spark.sparkContext.setLogLevel(\"ERROR\")\n",
    "print(\"Spark UI available at:\", spark.sparkContext.uiWebUrl)\n",
    "\n",
    "reviews = spark.read.json(\"hdfs:///user/e01652446/input/reviews_devset.json\")\n",
    "reviews.head()"
   ]
  },
  {
   "cell_type": "markdown",
   "id": "46f54e17-5f6e-4dfb-b5b3-997da28b3f4b",
   "metadata": {},
   "source": [
    "## Part 2: Feature Pipeline"
   ]
  },
  {
   "cell_type": "code",
   "execution_count": 3,
   "id": "3fa87f62-5788-4e1c-b2c9-02c2ce4cd3aa",
   "metadata": {},
   "outputs": [],
   "source": [
    "tokenizer = RegexTokenizer(\n",
    "    inputCol=\"reviewText\",\n",
    "    outputCol=\"wordTokens\",\n",
    "    pattern=r\"[\\s\\d()\\[\\]{}\\.\\!\\?,;:+=\\-_\\\"'`~#@&\\*\\%€\\$§\\\\/]+\"\n",
    ")\n",
    "\n",
    "\n",
    "stopwords = spark.sparkContext.textFile(\n",
    "    \"hdfs:///user/e01652446/input/stopwords.txt\"\n",
    ").collect()\n",
    "remover = StopWordsRemover(\n",
    "    inputCol=\"wordTokens\",\n",
    "    outputCol=\"filteredWords\",\n",
    "    stopWords=stopwords\n",
    ")\n",
    "\n",
    "count_vectorizer = CountVectorizer(\n",
    "    inputCol=\"filteredWords\",\n",
    "    outputCol=\"rawTermCounts\"\n",
    ")\n",
    "\n",
    "idf_transformer = IDF(\n",
    "    inputCol=\"rawTermCounts\",\n",
    "    outputCol=\"tfidfFeatures\"\n",
    ")\n",
    "\n",
    "label_indexer = StringIndexer(\n",
    "    inputCol=\"category\",\n",
    "    outputCol=\"label\",\n",
    "    handleInvalid=\"skip\"\n",
    ")\n",
    "\n",
    "chi_selector = ChiSqSelector(\n",
    "    numTopFeatures=2000,\n",
    "    featuresCol=\"tfidfFeatures\",\n",
    "    outputCol=\"selectedFeatures\",\n",
    "    labelCol=\"label\"\n",
    ")\n",
    "\n"
   ]
  },
  {
   "cell_type": "code",
   "execution_count": 4,
   "id": "4fba6e13-c22d-4b17-b0b6-58614fdf806d",
   "metadata": {},
   "outputs": [
    {
     "name": "stderr",
     "output_type": "stream",
     "text": [
      "                                                                                "
     ]
    }
   ],
   "source": [
    "pipeline = Pipeline(stages=[\n",
    "    tokenizer,\n",
    "    remover,\n",
    "    count_vectorizer,\n",
    "    idf_transformer,\n",
    "    label_indexer,\n",
    "    chi_selector\n",
    "])\n",
    "model = pipeline.fit(reviews)"
   ]
  },
  {
   "cell_type": "code",
   "execution_count": 5,
   "id": "21926d5c-3377-43aa-bbb4-8829762059bd",
   "metadata": {},
   "outputs": [],
   "source": [
    "vocab = model.stages[2].vocabulary \n",
    "selected_indices = model.stages[-1].selectedFeatures\n",
    "\n",
    "selected_terms = [vocab[i] for i in selected_indices]"
   ]
  },
  {
   "cell_type": "code",
   "execution_count": 6,
   "id": "e002fac6-a9bf-429b-9a32-748ceac64c6b",
   "metadata": {},
   "outputs": [],
   "source": [
    "#sc = spark.sparkContext\n",
    "#sc.parallelize(selected_terms, 1) \\\n",
    "#  .saveAsTextFile(\"output_ds.txt\")"
   ]
  },
  {
   "cell_type": "markdown",
   "id": "afbb52bb-5264-4236-a947-2bd60d838c09",
   "metadata": {},
   "source": [
    "## Part 3: Classification"
   ]
  },
  {
   "cell_type": "code",
   "execution_count": 7,
   "id": "98523071-514c-4e94-ba72-37c5fe1e9ed3",
   "metadata": {},
   "outputs": [],
   "source": [
    "normalizer = Normalizer(\n",
    "    inputCol=\"selectedFeatures\",\n",
    "    outputCol=\"normalizedFeatures\"\n",
    ")\n",
    "\n",
    "scaler = StandardScaler(\n",
    "    inputCol=\"selectedFeatures\",\n",
    "    outputCol=\"scaledFeatures\",\n",
    "    withMean=False\n",
    ")\n",
    "\n",
    "binary_svm = LinearSVC(\n",
    "    featuresCol=\"normalizedFeatures\",\n",
    "    labelCol=\"label\"\n",
    ")\n",
    "\n",
    "multi_class_svm = OneVsRest(\n",
    "    classifier=binary_svm,\n",
    "    labelCol=\"label\",\n",
    "    featuresCol=\"normalizedFeatures\"\n",
    ")\n",
    "\n",
    "\n",
    "full_pipeline = Pipeline(stages=[\n",
    "    tokenizer,\n",
    "    remover,\n",
    "    count_vectorizer,\n",
    "    idf_transformer,\n",
    "    label_indexer,\n",
    "    chi_selector,\n",
    "    normalizer,\n",
    "    multi_class_svm\n",
    "])"
   ]
  },
  {
   "cell_type": "code",
   "execution_count": 8,
   "id": "85e4319a-9fa3-4ce3-a782-e2d4fc5f147a",
   "metadata": {},
   "outputs": [],
   "source": [
    "evaluator = MulticlassClassificationEvaluator(\n",
    "    labelCol=\"label\",\n",
    "    predictionCol=\"prediction\",\n",
    "    metricName=\"f1\"\n",
    ")"
   ]
  },
  {
   "cell_type": "code",
   "execution_count": 11,
   "id": "5a0c3728-cae2-4fbe-90d1-e2db97c111fe",
   "metadata": {},
   "outputs": [
    {
     "name": "stdout",
     "output_type": "stream",
     "text": [
      "\n",
      "⏳ Training 1/24 (numTopFeatures=2000, regParam=0.01, maxIter=20, standardization=True)\n"
     ]
    },
    {
     "name": "stderr",
     "output_type": "stream",
     "text": [
      "                                                                                "
     ]
    },
    {
     "name": "stdout",
     "output_type": "stream",
     "text": [
      "→ Validation F1 = 0.5984\n",
      "\n",
      "⏳ Training 2/24 (numTopFeatures=2000, regParam=0.01, maxIter=20, standardization=False)\n"
     ]
    },
    {
     "name": "stderr",
     "output_type": "stream",
     "text": [
      "                                                                                "
     ]
    },
    {
     "name": "stdout",
     "output_type": "stream",
     "text": [
      "→ Validation F1 = 0.4712\n",
      "\n",
      "⏳ Training 3/24 (numTopFeatures=2000, regParam=0.01, maxIter=60, standardization=True)\n"
     ]
    },
    {
     "name": "stderr",
     "output_type": "stream",
     "text": [
      "                                                                                "
     ]
    },
    {
     "name": "stdout",
     "output_type": "stream",
     "text": [
      "→ Validation F1 = 0.5981\n",
      "\n",
      "⏳ Training 4/24 (numTopFeatures=2000, regParam=0.01, maxIter=60, standardization=False)\n"
     ]
    },
    {
     "name": "stderr",
     "output_type": "stream",
     "text": [
      "                                                                                "
     ]
    },
    {
     "name": "stdout",
     "output_type": "stream",
     "text": [
      "→ Validation F1 = 0.4941\n",
      "\n",
      "⏳ Training 5/24 (numTopFeatures=2000, regParam=0.1, maxIter=20, standardization=True)\n"
     ]
    },
    {
     "name": "stderr",
     "output_type": "stream",
     "text": [
      "                                                                                "
     ]
    },
    {
     "name": "stdout",
     "output_type": "stream",
     "text": [
      "→ Validation F1 = 0.5920\n",
      "\n",
      "⏳ Training 6/24 (numTopFeatures=2000, regParam=0.1, maxIter=20, standardization=False)\n"
     ]
    },
    {
     "name": "stderr",
     "output_type": "stream",
     "text": [
      "                                                                                "
     ]
    },
    {
     "name": "stdout",
     "output_type": "stream",
     "text": [
      "→ Validation F1 = 0.4293\n",
      "\n",
      "⏳ Training 7/24 (numTopFeatures=2000, regParam=0.1, maxIter=60, standardization=True)\n"
     ]
    },
    {
     "name": "stderr",
     "output_type": "stream",
     "text": [
      "                                                                                "
     ]
    },
    {
     "name": "stdout",
     "output_type": "stream",
     "text": [
      "→ Validation F1 = 0.5891\n",
      "\n",
      "⏳ Training 8/24 (numTopFeatures=2000, regParam=0.1, maxIter=60, standardization=False)\n"
     ]
    },
    {
     "name": "stderr",
     "output_type": "stream",
     "text": [
      "                                                                                "
     ]
    },
    {
     "name": "stdout",
     "output_type": "stream",
     "text": [
      "→ Validation F1 = 0.4951\n",
      "\n",
      "⏳ Training 9/24 (numTopFeatures=2000, regParam=1.0, maxIter=20, standardization=True)\n"
     ]
    },
    {
     "name": "stderr",
     "output_type": "stream",
     "text": [
      "                                                                                "
     ]
    },
    {
     "name": "stdout",
     "output_type": "stream",
     "text": [
      "→ Validation F1 = 0.5549\n",
      "\n",
      "⏳ Training 10/24 (numTopFeatures=2000, regParam=1.0, maxIter=20, standardization=False)\n"
     ]
    },
    {
     "name": "stderr",
     "output_type": "stream",
     "text": [
      "                                                                                "
     ]
    },
    {
     "name": "stdout",
     "output_type": "stream",
     "text": [
      "→ Validation F1 = 0.0045\n",
      "\n",
      "⏳ Training 11/24 (numTopFeatures=2000, regParam=1.0, maxIter=60, standardization=True)\n"
     ]
    },
    {
     "name": "stderr",
     "output_type": "stream",
     "text": [
      "                                                                                "
     ]
    },
    {
     "name": "stdout",
     "output_type": "stream",
     "text": [
      "→ Validation F1 = 0.5518\n",
      "\n",
      "⏳ Training 12/24 (numTopFeatures=2000, regParam=1.0, maxIter=60, standardization=False)\n"
     ]
    },
    {
     "name": "stderr",
     "output_type": "stream",
     "text": [
      "                                                                                "
     ]
    },
    {
     "name": "stdout",
     "output_type": "stream",
     "text": [
      "→ Validation F1 = 0.4956\n",
      "\n",
      "⏳ Training 13/24 (numTopFeatures=1000, regParam=0.01, maxIter=20, standardization=True)\n"
     ]
    },
    {
     "name": "stderr",
     "output_type": "stream",
     "text": [
      "                                                                                "
     ]
    },
    {
     "name": "stdout",
     "output_type": "stream",
     "text": [
      "→ Validation F1 = 0.5534\n",
      "\n",
      "⏳ Training 14/24 (numTopFeatures=1000, regParam=0.01, maxIter=20, standardization=False)\n"
     ]
    },
    {
     "name": "stderr",
     "output_type": "stream",
     "text": [
      "                                                                                "
     ]
    },
    {
     "name": "stdout",
     "output_type": "stream",
     "text": [
      "→ Validation F1 = 0.4678\n",
      "\n",
      "⏳ Training 15/24 (numTopFeatures=1000, regParam=0.01, maxIter=60, standardization=True)\n"
     ]
    },
    {
     "name": "stderr",
     "output_type": "stream",
     "text": [
      "                                                                                "
     ]
    },
    {
     "name": "stdout",
     "output_type": "stream",
     "text": [
      "→ Validation F1 = 0.5526\n",
      "\n",
      "⏳ Training 16/24 (numTopFeatures=1000, regParam=0.01, maxIter=60, standardization=False)\n"
     ]
    },
    {
     "name": "stderr",
     "output_type": "stream",
     "text": [
      "                                                                                "
     ]
    },
    {
     "name": "stdout",
     "output_type": "stream",
     "text": [
      "→ Validation F1 = 0.4592\n",
      "\n",
      "⏳ Training 17/24 (numTopFeatures=1000, regParam=0.1, maxIter=20, standardization=True)\n"
     ]
    },
    {
     "name": "stderr",
     "output_type": "stream",
     "text": [
      "                                                                                "
     ]
    },
    {
     "name": "stdout",
     "output_type": "stream",
     "text": [
      "→ Validation F1 = 0.5393\n",
      "\n",
      "⏳ Training 18/24 (numTopFeatures=1000, regParam=0.1, maxIter=20, standardization=False)\n"
     ]
    },
    {
     "name": "stderr",
     "output_type": "stream",
     "text": [
      "                                                                                "
     ]
    },
    {
     "name": "stdout",
     "output_type": "stream",
     "text": [
      "→ Validation F1 = 0.4676\n",
      "\n",
      "⏳ Training 19/24 (numTopFeatures=1000, regParam=0.1, maxIter=60, standardization=True)\n"
     ]
    },
    {
     "name": "stderr",
     "output_type": "stream",
     "text": [
      "                                                                                "
     ]
    },
    {
     "name": "stdout",
     "output_type": "stream",
     "text": [
      "→ Validation F1 = 0.5298\n",
      "\n",
      "⏳ Training 20/24 (numTopFeatures=1000, regParam=0.1, maxIter=60, standardization=False)\n"
     ]
    },
    {
     "name": "stderr",
     "output_type": "stream",
     "text": [
      "                                                                                "
     ]
    },
    {
     "name": "stdout",
     "output_type": "stream",
     "text": [
      "→ Validation F1 = 0.4586\n",
      "\n",
      "⏳ Training 21/24 (numTopFeatures=1000, regParam=1.0, maxIter=20, standardization=True)\n"
     ]
    },
    {
     "name": "stderr",
     "output_type": "stream",
     "text": [
      "                                                                                "
     ]
    },
    {
     "name": "stdout",
     "output_type": "stream",
     "text": [
      "→ Validation F1 = 0.5014\n",
      "\n",
      "⏳ Training 22/24 (numTopFeatures=1000, regParam=1.0, maxIter=20, standardization=False)\n"
     ]
    },
    {
     "name": "stderr",
     "output_type": "stream",
     "text": [
      "                                                                                "
     ]
    },
    {
     "name": "stdout",
     "output_type": "stream",
     "text": [
      "25/05/13 05:44:06 ERROR OWLQN: Failure! Resetting history: breeze.optimize.NaNHistory: \n"
     ]
    },
    {
     "name": "stderr",
     "output_type": "stream",
     "text": [
      "                                                                                "
     ]
    },
    {
     "name": "stdout",
     "output_type": "stream",
     "text": [
      "→ Validation F1 = 0.0005\n",
      "\n",
      "⏳ Training 23/24 (numTopFeatures=1000, regParam=1.0, maxIter=60, standardization=True)\n"
     ]
    },
    {
     "name": "stderr",
     "output_type": "stream",
     "text": [
      "                                                                                "
     ]
    },
    {
     "name": "stdout",
     "output_type": "stream",
     "text": [
      "→ Validation F1 = 0.4945\n",
      "\n",
      "⏳ Training 24/24 (numTopFeatures=1000, regParam=1.0, maxIter=60, standardization=False)\n"
     ]
    },
    {
     "name": "stderr",
     "output_type": "stream",
     "text": [
      "                                                                                "
     ]
    },
    {
     "name": "stdout",
     "output_type": "stream",
     "text": [
      "25/05/13 06:12:50 ERROR OWLQN: Failure! Resetting history: breeze.optimize.NaNHistory: \n"
     ]
    },
    {
     "name": "stderr",
     "output_type": "stream",
     "text": [
      "                                                                                "
     ]
    },
    {
     "name": "stdout",
     "output_type": "stream",
     "text": [
      "→ Validation F1 = 0.4603\n",
      "\n",
      "🏆 Best validation config: numTopFeatures=2000, regParam=0.01, maxIter=20, standardization=True\n",
      "🏆 Best validation F1 = 0.5984\n"
     ]
    },
    {
     "name": "stderr",
     "output_type": "stream",
     "text": [
      "[Stage 55175:>                                                      (0 + 2) / 2]"
     ]
    },
    {
     "name": "stdout",
     "output_type": "stream",
     "text": [
      "🚀 Test F1 = 0.5981\n"
     ]
    },
    {
     "name": "stderr",
     "output_type": "stream",
     "text": [
      "                                                                                "
     ]
    }
   ],
   "source": [
    "\n",
    "\n",
    "train_data, test_data = reviews.randomSplit([0.7, 0.3], seed=42)\n",
    "train_inner, val_inner = train_data.randomSplit([0.8, 0.2], seed=42)\n",
    "\n",
    "feature_counts   = [2000, 1000]\n",
    "reg_params       = [0.01, 0.1, 1.0]\n",
    "max_iters        = [20,   60]\n",
    "standardizations = [True, False]\n",
    "\n",
    "\n",
    "best_f1    = -1.0\n",
    "best_model = None\n",
    "best_conf  = None\n",
    "\n",
    "\n",
    "total = (len(feature_counts)\n",
    "         * len(reg_params)\n",
    "         * len(max_iters)\n",
    "         * len(standardizations))\n",
    "\n",
    "count = 0\n",
    "for k, reg, iters, std in product(feature_counts,\n",
    "                                  reg_params,\n",
    "                                  max_iters,\n",
    "                                  standardizations):\n",
    "    count += 1\n",
    "    print(f\"\\n⏳ Training {count}/{total} \"\n",
    "          f\"(numTopFeatures={k}, regParam={reg}, \"\n",
    "          f\"maxIter={iters}, standardization={std})\")\n",
    "    \n",
    "    chi_selector.setNumTopFeatures(k)\n",
    "    binary_svm.setRegParam(reg) \\\n",
    "              .setMaxIter(iters) \\\n",
    "              .setStandardization(std)\n",
    "    scaler.setWithStd(std)      \n",
    "    \n",
    "  \n",
    "    model = full_pipeline.fit(train_inner)\n",
    "\n",
    "    val_pred = model.transform(val_inner)\n",
    "    f1 = evaluator.evaluate(val_pred)\n",
    "    print(f\"→ Validation F1 = {f1:.4f}\")\n",
    "    \n",
    "    if f1 > best_f1:\n",
    "        best_f1    = f1\n",
    "        best_model = model\n",
    "        best_conf  = (k, reg, iters, std)\n",
    "\n",
    "\n",
    "print(\"\\nBest validation config:\",\n",
    "      f\"numTopFeatures={best_conf[0]}, regParam={best_conf[1]},\",\n",
    "      f\"maxIter={best_conf[2]}, standardization={best_conf[3]}\")\n",
    "print(f\"Best validation F1 = {best_f1:.4f}\")\n",
    "\n",
    "test_pred = best_model.transform(test_data)\n",
    "test_f1   = evaluator.evaluate(test_pred)\n",
    "print(f\"Test F1 = {test_f1:.4f}\")"
   ]
  },
  {
   "cell_type": "code",
   "execution_count": null,
   "id": "bbe1702a-b9c8-48db-9533-ad1796e444db",
   "metadata": {},
   "outputs": [],
   "source": [
    "spark.stop()"
   ]
  },
  {
   "cell_type": "code",
   "execution_count": null,
   "id": "6545d598-e842-4179-99ef-6066b266a7e0",
   "metadata": {},
   "outputs": [],
   "source": []
  }
 ],
 "metadata": {
  "kernelspec": {
   "display_name": "Python 3",
   "language": "python",
   "name": "python3"
  },
  "language_info": {
   "codemirror_mode": {
    "name": "ipython",
    "version": 3
   },
   "file_extension": ".py",
   "mimetype": "text/x-python",
   "name": "python",
   "nbconvert_exporter": "python",
   "pygments_lexer": "ipython3",
   "version": "3.9.20"
  }
 },
 "nbformat": 4,
 "nbformat_minor": 5
}
